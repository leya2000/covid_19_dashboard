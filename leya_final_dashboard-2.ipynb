{
 "cells": [
  {
   "cell_type": "markdown",
   "metadata": {},
   "source": [
    "(C) Leya Zahra Akhtar, 2020  All rights reserved."
   ]
  },
  {
   "cell_type": "markdown",
   "metadata": {},
   "source": []
  },
  {
   "cell_type": "code",
   "execution_count": null,
   "metadata": {},
   "outputs": [],
   "source": []
  },
  {
   "cell_type": "markdown",
   "metadata": {},
   "source": [
    "# Covid-19 Dashboard\n",
    "\n",
    "This is a dashboard displaying data for COVID-19 in England.\n",
    "The graph below shows statistics regarding the effectiveness of COVID-19 vaccinations over the course of the year.\n",
    "\n",
    "It is clear that there is a correlation so far between the number of people receiving their first and second doses and the number of daily new cases and deaths slowly levelling off by autumn 2021. Moreover, the transmissabiltiy of the virus has not peaked as high as earlier in 2020. This clearly shows that vaccination rollouts have been effective across England. Therefore, booster vaccines should be considered in the future to lower the number of cases and deaths further to maintain these figures.\n",
    "\n",
    "The graph can be interacted with by clicking SHIFT to choose which statistics you wish to view. You can select multiple statistics at one time. Users can also switch between linear and log scales. (Log scale is recommended)."
   ]
  },
  {
   "cell_type": "markdown",
   "metadata": {},
   "source": []
  },
  {
   "cell_type": "code",
   "execution_count": 29,
   "metadata": {},
   "outputs": [],
   "source": [
    "from IPython.display import clear_output\n",
    "import ipywidgets as wdg\n",
    "import pandas as pd\n",
    "import numpy as np\n",
    "import matplotlib.pyplot as plt\n",
    "import json\n",
    "from uk_covid19 import Cov19API"
   ]
  },
  {
   "cell_type": "code",
   "execution_count": 30,
   "metadata": {},
   "outputs": [],
   "source": [
    "%matplotlib inline\n",
    "# make figures larger\n",
    "plt.rcParams['figure.dpi'] = 100"
   ]
  },
  {
   "cell_type": "markdown",
   "metadata": {},
   "source": []
  },
  {
   "cell_type": "code",
   "execution_count": 31,
   "metadata": {},
   "outputs": [],
   "source": [
    "\n",
    "#Load JSON files and store the raw data in a variable called data\n",
    "with open('cases.json') as case:\n",
    "    data = json.load(case)\n",
    "#data #initial data that will be presented on the dashboard before it is refreshed to fetch updated API data\n"
   ]
  },
  {
   "cell_type": "markdown",
   "metadata": {},
   "source": []
  },
  {
   "cell_type": "code",
   "execution_count": 32,
   "metadata": {},
   "outputs": [],
   "source": [
    "def parse_date(datestring):\n",
    "    return pd.to_datetime(datestring, format=\"%Y-%m-%d\")\n"
   ]
  },
  {
   "cell_type": "code",
   "execution_count": 33,
   "metadata": {},
   "outputs": [],
   "source": [
    "#wrangling the data so it is organised and ready to be plotted correctly \n",
    "def wrangle_data(data):\n",
    "    datalist=data['data']\n",
    "    dates=[dictionary['date'] for dictionary in datalist ]\n",
    "    dates.sort()\n",
    "    startdate=parse_date(dates[0])\n",
    "    enddate=parse_date(dates[-1])\n",
    "    index=pd.date_range(startdate, enddate, freq='D')\n",
    "    casesdata=pd.DataFrame(index=index, columns=['new cases', 'new deaths', 'total vaccinated 1st dose','total vaccinated 2nd dose','transmissability - R'])\n",
    "    for entry in datalist: \n",
    "        date=parse_date(entry['date'])\n",
    "        for column in ['new cases', 'new deaths', 'total vaccinated 1st dose','total vaccinated 2nd dose','transmissability - R']:\n",
    "            if pd.isna(casesdata.loc[date, column]): \n",
    "                value= float(entry[column]) if entry[column]!=None else 0.0\n",
    "                casesdata.loc[date, column]=value\n",
    "            \n",
    "\n",
    "    casesdata.fillna(0.0, inplace=True)\n",
    "    return casesdata\n",
    "casesdata=wrangle_data(data)\n"
   ]
  },
  {
   "cell_type": "code",
   "execution_count": null,
   "metadata": {},
   "outputs": [],
   "source": []
  },
  {
   "cell_type": "code",
   "execution_count": null,
   "metadata": {},
   "outputs": [],
   "source": []
  },
  {
   "cell_type": "code",
   "execution_count": null,
   "metadata": {},
   "outputs": [],
   "source": []
  },
  {
   "cell_type": "markdown",
   "metadata": {},
   "source": []
  },
  {
   "cell_type": "markdown",
   "metadata": {},
   "source": []
  },
  {
   "cell_type": "code",
   "execution_count": 34,
   "metadata": {},
   "outputs": [],
   "source": [
    "#API access code which will be called when the button is pressed by the user. Data taken from PHE website\n",
    "def access_api():\n",
    "    filters = [\n",
    "    'areaType=nation',\n",
    "    'areaName=england'\n",
    "]\n",
    "\n",
    "\n",
    "\n",
    "    structure = {\n",
    "    \"date\":\"date\",\n",
    "    \"new cases\": \"newCasesByPublishDate\",\n",
    "    \"new deaths\":\"newDeaths28DaysByDeathDate\",\n",
    "    \"total vaccinated 1st dose\":\"cumPeopleVaccinatedFirstDoseByVaccinationDate\",\n",
    "    \"total vaccinated 2nd dose\":\"cumPeopleVaccinatedSecondDoseByVaccinationDate\",\n",
    "    \"transmissability - R\":\"transmissionRateMax\"\n",
    "    \n",
    "}\n",
    "    api = Cov19API(filters=filters, structure=structure)\n",
    "    cases=api.get_json()\n",
    "    #print(cases)\n",
    "  \n",
    "    \n",
    "    \n",
    "    \"\"\" Accesses the PHE API. Returns raw data in the same format as data loaded from the \"canned\" JSON file. \"\"\"\n",
    "    return cases # return data read from the API\n"
   ]
  },
  {
   "cell_type": "code",
   "execution_count": 35,
   "metadata": {},
   "outputs": [
    {
     "data": {
      "application/vnd.jupyter.widget-view+json": {
       "model_id": "da997e37ac8549fa82e56eb9b76c7c31",
       "version_major": 2,
       "version_minor": 0
      },
      "text/plain": [
       "Button(button_style='info', description='Update data', icon='refresh', style=ButtonStyle(), tooltip='Click to …"
      ]
     },
     "metadata": {},
     "output_type": "display_data"
    }
   ],
   "source": [
    "\n",
    "def api_button_callback(apibutton):\n",
    "    \"\"\" Button callback - it must take the button as its parameter (unused in this case).\n",
    "    Accesses API, wrangles data, updates global variable df used for plotting. \"\"\"\n",
    "    # This will get new data from my API\n",
    "    apidata=access_api()\n",
    "    # wrangle the data and overwrite the dataframe for plotting\n",
    "    global casesdata\n",
    "    casesdata=wrangle_data(apidata)\n",
    "    # When the user wants updated data, they can click the button\n",
    "    refresh_graph()\n",
    "    # Once the data has been updated once, it does not really need to be updated again immediately.\n",
    "    #Therefore, the api button is disabled once it has been clicked once.\n",
    "    apibutton.icon=\"check\"\n",
    "    apibutton.disabled=True\n",
    "\n",
    "#This is my widget that will refresh the data once it has been pressed   \n",
    "apibutton=wdg.Button(\n",
    "    description='Update data',\n",
    "    disabled=False,\n",
    "    button_style='info', \n",
    "    tooltip='Click to access updated Government COVID-19 data',\n",
    "    icon='refresh' \n",
    "    \n",
    ")\n",
    "\n",
    "\n",
    "apibutton.on_click(api_button_callback)\n",
    "\n",
    "display(apibutton)"
   ]
  },
  {
   "cell_type": "markdown",
   "metadata": {},
   "source": []
  },
  {
   "cell_type": "markdown",
   "metadata": {},
   "source": []
  },
  {
   "cell_type": "code",
   "execution_count": 36,
   "metadata": {},
   "outputs": [
    {
     "data": {
      "application/vnd.jupyter.widget-view+json": {
       "model_id": "475244157d6c4e51ae07591f56f7eb30",
       "version_major": 2,
       "version_minor": 0
      },
      "text/plain": [
       "HBox(children=(Output(), VBox(children=(SelectMultiple(description='View by:', index=(0, 1, 2, 3, 4), options=…"
      ]
     },
     "metadata": {},
     "output_type": "display_data"
    },
    {
     "data": {
      "application/vnd.jupyter.widget-view+json": {
       "model_id": "1c7843c4f6cb4d3e8e77450fb3eaa4d0",
       "version_major": 2,
       "version_minor": 0
      },
      "text/plain": [
       "HTML(value='<b>This data is updated regularly. Please check you are viewing the most up-to-date version</b>', …"
      ]
     },
     "metadata": {},
     "output_type": "display_data"
    }
   ],
   "source": [
    "\n",
    "#A widget that allows the user to select more than one category of data at a time by clicking SHIFT\n",
    "\n",
    "series=wdg.SelectMultiple(\n",
    "    options=['new cases', 'new deaths', 'total vaccinated 1st dose','total vaccinated 2nd dose','transmissability - R'],\n",
    "    value=['new cases', 'new deaths', 'total vaccinated 1st dose','total vaccinated 2nd dose','transmissability - R'],\n",
    "    rows=5,\n",
    "    description='View by:',\n",
    "    disabled=False,\n",
    "    \n",
    "\n",
    "    \n",
    ")\n",
    "\n",
    "\n",
    "#A widget that allows the user to switch between linear and logarithm.\n",
    "#I changed the button style to info to match better with the colour scheme of my graph\n",
    "\n",
    "scale= wdg.ToggleButtons(\n",
    "    options =['linear','log'],\n",
    "    description='Scale: ',\n",
    "    disabled =False,\n",
    "    button_style='info'\n",
    "   \n",
    ")\n",
    "\n",
    "#Experimenting with inserting images and adding a PHE logo alongside the data\n",
    "\n",
    "\"\"\"file = open('PHE.jpg','rb')\n",
    "image = file.read()\n",
    "logo=wdg.Image(\n",
    "    value =image,\n",
    "    format ='jpg',\n",
    "    width = 100,\n",
    "    height = 40,)\"\"\"\n",
    "\n",
    "\n",
    "\n",
    "#If the number of columns is more than 0, display the graph. If it is 0, tell the user to select one or more category to view.\n",
    "\n",
    "def cases_graph(column, scale):\n",
    "    if scale=='linear':\n",
    "        logscale=False\n",
    "    else:\n",
    "        logscale=True\n",
    "    columnno=len(column)\n",
    "    if columnno>0:\n",
    "        casesdata[list(column)].plot(logy=logscale,colormap=\"tab20b\", xlabel ='Months\\n',ylabel ='Number of people\\n', \n",
    "              title='Graph showing the impact of COVID-19 vaccinations in England\\n\\n\\n')\n",
    "        #casesdata.plot(subplots=True, figsize=(8,8),colormap=\"tab20b\",logy=True)\n",
    "        plt.show() \n",
    "    else: \n",
    "        print(\"(Press SHIFT to select more than one category)\")\n",
    "\n",
    "  \n",
    "graph=wdg.interactive_output(cases_graph,{'column': series, 'scale': scale})\n",
    "#casesdata.plot(subplots=True, figsize=(8,8),colormap=\"tab20b\",logy=True)\n",
    "\n",
    "\n",
    "#This changes the layout of the widgets alongside the graph.\n",
    "#I set the widgets to be next to the graph instead of on top\n",
    "controls=wdg.VBox([series, scale])\n",
    "position = wdg.HBox([graph,controls])\n",
    "\n",
    "\n",
    "\n",
    "\n",
    "def refresh_graph():\n",
    "    \n",
    "    current=series.value\n",
    "    if current==series.options[0]:\n",
    "        other=(series.options[1],)\n",
    "    else:\n",
    "        other=(series.options[0],)\n",
    "    series.value=other # forces the redraw\n",
    "    series.value=current # now we can change it back\n",
    "\n",
    "\n",
    "\n",
    "display(position)\n",
    "plt.show()\n",
    "\n",
    "\n",
    "wdg.HTML(value=\"<b>This data is updated regularly. Please check you are viewing the most up-to-date version</b>\",placeholder='Some HTML',description='',\n",
    ")"
   ]
  },
  {
   "cell_type": "markdown",
   "metadata": {},
   "source": []
  },
  {
   "cell_type": "markdown",
   "metadata": {},
   "source": [
    "**Author and Copyright Notice:**  Data source: *Based on UK Government [data](https://coronavirus.data.gov.uk/) published by [Public Health England](https://www.gov.uk/government/organisations/public-health-england).*"
   ]
  },
  {
   "cell_type": "code",
   "execution_count": null,
   "metadata": {},
   "outputs": [],
   "source": []
  }
 ],
 "metadata": {
  "kernelspec": {
   "display_name": "Python 3 (ipykernel)",
   "language": "python",
   "name": "python3"
  },
  "language_info": {
   "codemirror_mode": {
    "name": "ipython",
    "version": 3
   },
   "file_extension": ".py",
   "mimetype": "text/x-python",
   "name": "python",
   "nbconvert_exporter": "python",
   "pygments_lexer": "ipython3",
   "version": "3.9.6"
  }
 },
 "nbformat": 4,
 "nbformat_minor": 4
}
